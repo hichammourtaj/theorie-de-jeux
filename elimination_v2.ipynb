{
 "cells": [
  {
   "cell_type": "code",
   "execution_count": null,
   "metadata": {},
   "outputs": [],
   "source": [
    "import numpy as np\n",
    "\n",
    "def elimination_strategies_dominees(matrice_strategies):\n",
    "    matrice = np.array(matrice_strategies)\n",
    "    n, m, _ = matrice.shape\n",
    "\n",
    "    # Initialiser un tableau pour marquer les stratégies dominées\n",
    "    strategies_dominees = np.zeros((n, m), dtype=bool)\n",
    "\n",
    "    # Élimination des stratégies dominées\n",
    "    for i in range(n):\n",
    "        for j in range(m):\n",
    "            if not strategies_dominees[i, j]:\n",
    "                for k in range(n):\n",
    "                    for l in range(m):\n",
    "                        if not strategies_dominees[k, l] and (i != k or j != l):\n",
    "                            if all(matrice[k, l] >= matrice[i, j]):\n",
    "                                strategies_dominees[i, j] = True\n",
    "                                break\n",
    "\n",
    "    # Générer la matrice résultante après l'élimination\n",
    "    matrice_resultante = np.zeros((n, m, 2), dtype=int)\n",
    "    for i in range(n):\n",
    "        for j in range(m):\n",
    "            if not strategies_dominees[i, j]:\n",
    "                matrice_resultante[i, j] = matrice[i, j]\n",
    "\n",
    "    return matrice_resultante\n",
    "\n",
    "# Exemple d'utilisation avec la matrice_strategies fournie\n",
    "matrice_strategies_resultante = elimination_strategies_dominees(matrice_strategies)\n",
    "\n",
    "# Afficher la matrice résultante\n",
    "print(\"Matrice résultante après élimination des stratégies dominées :\")\n",
    "print(matrice_strategies_resultante)\n"
   ]
  }
 ],
 "metadata": {
  "language_info": {
   "name": "python"
  }
 },
 "nbformat": 4,
 "nbformat_minor": 2
}
